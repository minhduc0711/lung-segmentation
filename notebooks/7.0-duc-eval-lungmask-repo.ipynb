{
 "cells": [
  {
   "cell_type": "markdown",
   "metadata": {},
   "source": [
    "Evaluate pretrained U-net from https://github.com/JoHof/lungmask on Plethora dataset."
   ]
  },
  {
   "cell_type": "code",
   "execution_count": 1,
   "metadata": {},
   "outputs": [
    {
     "name": "stdout",
     "output_type": "stream",
     "text": [
      "/storage/ducpm/lung-segmentation\n"
     ]
    }
   ],
   "source": [
    "%load_ext autoreload\n",
    "%autoreload 2\n",
    "%cd .."
   ]
  },
  {
   "cell_type": "code",
   "execution_count": 2,
   "metadata": {},
   "outputs": [],
   "source": [
    "import SimpleITK as sitk\n",
    "import numpy as np\n",
    "import matplotlib.pyplot as plt\n",
    "import skimage\n",
    "\n",
    "import torch\n",
    "from torchvision import transforms\n",
    "from tqdm.notebook import tqdm\n",
    "\n",
    "from lungmask.mask import get_model\n",
    "from lungmask.utils import preprocess, postrocessing, reshape_mask\n",
    "\n",
    "from src.metrics import dice_coeff_vectorized\n",
    "from src.data.preprocess import ToTensor\n",
    "from src.data.data_modules import PlethoraDataModule, Covid19DataModule\n",
    "from src.visualization.plotting import plot_batch"
   ]
  },
  {
   "cell_type": "code",
   "execution_count": 3,
   "metadata": {},
   "outputs": [],
   "source": [
    "class LungMaskPreprocess:\n",
    "    def __call__(self, sample):\n",
    "        img = sample[\"img\"]\n",
    "        new_img, new_box = preprocess(np.expand_dims(img, axis=0),\n",
    "                                               resolution=[256,256])\n",
    "        new_img[new_img > 600] = 600\n",
    "        new_img = np.divide((new_img + 1024), 1624)\n",
    "        new_img = np.squeeze(new_img)\n",
    "        new_box = np.squeeze(new_box)\n",
    "        return dict(sample, img=new_img, box=new_box, original_img=img)"
   ]
  },
  {
   "cell_type": "code",
   "execution_count": 4,
   "metadata": {},
   "outputs": [],
   "source": [
    "transform = transforms.Compose([\n",
    "    LungMaskPreprocess(),\n",
    "    ToTensor(),\n",
    "    transforms.Lambda(lambda sample: dict(sample, img=sample[\"img\"].unsqueeze(0))),\n",
    "])\n",
    "\n",
    "#dm = PlethoraDataModule(batch_size=16, transform=transform)\n",
    "dm = Covid19DataModule(batch_size=32, transform=transform)\n",
    "dm.setup('test')\n",
    "test_loader = dm.test_dataloader()"
   ]
  },
  {
   "cell_type": "code",
   "execution_count": 5,
   "metadata": {},
   "outputs": [],
   "source": [
    "device = \"cuda:0\"\n",
    "model = get_model('unet', 'R231').to(device)"
   ]
  },
  {
   "cell_type": "code",
   "execution_count": 6,
   "metadata": {},
   "outputs": [
    {
     "data": {
      "application/vnd.jupyter.widget-view+json": {
       "model_id": "6884e72f46234ca8bf68e861f8ca9db2",
       "version_major": 2,
       "version_minor": 0
      },
      "text/plain": [
       "HBox(children=(FloatProgress(value=0.0, max=81.0), HTML(value='')))"
      ]
     },
     "metadata": {},
     "output_type": "display_data"
    },
    {
     "name": "stdout",
     "output_type": "stream",
     "text": [
      "\n"
     ]
    }
   ],
   "source": [
    "dice_2d_list = []\n",
    "dice_3d_list = []\n",
    "true_buffer = []\n",
    "pred_buffer = []\n",
    "\n",
    "res = {}\n",
    "pbar = tqdm(test_loader)\n",
    "for batch_idx, batch in enumerate(pbar):\n",
    "    with torch.no_grad():\n",
    "        X, y = batch[\"img\"].to(device), batch[\"mask\"].to(device)\n",
    "        logits = model(X)\n",
    "        pred_masks = torch.max(logits, 1)[1].detach().cpu().numpy().astype(np.uint8)\n",
    "    \n",
    "    boxes = batch[\"box\"].cpu().numpy()\n",
    "    # post-process masks\n",
    "    pred_masks = postrocessing(pred_masks)\n",
    "    pred_masks = np.asarray(\n",
    "            [reshape_mask(pred_masks[i], batch[\"box\"][i], batch[\"original_img\"].shape[1:]) for i in range(pred_masks.shape[0])],\n",
    "            dtype=np.uint8)\n",
    "    pred_masks[pred_masks > 0] = 1\n",
    "    pred_masks = torch.from_numpy(pred_masks).to(device)\n",
    "    \n",
    "    # calculate metrics\n",
    "    dsc = dice_coeff_vectorized(pred_masks, y, reduce_fn=torch.mean)\n",
    "    dice_2d_list.append(dsc.item())\n",
    "    res[\"dice_2d\"] = dsc.item()\n",
    "\n",
    "    # 3D dice coeff\n",
    "    slice_idxs = batch[\"slice_idx\"]\n",
    "    split_idx = torch.where(slice_idxs == 0)[0]\n",
    "    if len(split_idx) > 1:\n",
    "        raise RuntimeError(f\"there are multiple zeros in slice_idxs: {slice_idxs}\")\n",
    "    split_idx = split_idx.item() if len(split_idx) > 0 else None\n",
    "    true_buffer.append(y[:split_idx])\n",
    "    pred_buffer.append(pred_masks[:split_idx])\n",
    "\n",
    "    # if we have finish iterating over a CT scan, calculate 3D dice\n",
    "    if (split_idx is not None and batch_idx > 0) or \\\n",
    "            batch_idx == len(test_loader) - 1:\n",
    "        true_v_mask = torch.cat(true_buffer).reshape(1, -1)\n",
    "        pred_v_mask = torch.cat(pred_buffer).reshape(1, -1)\n",
    "\n",
    "        dsc_v = dice_coeff_vectorized(pred_v_mask, true_v_mask, reduce_fn=None)\n",
    "        dice_3d_list.append(dsc_v.item())\n",
    "        res[\"dice_3d\"] = dsc_v.item()\n",
    "\n",
    "        # clear the buffers\n",
    "        true_buffer = [y[split_idx:]]\n",
    "        pred_buffer = [pred_masks[split_idx:]]\n",
    "        del true_v_mask\n",
    "        del pred_v_mask\n",
    "    pbar.set_postfix(res)"
   ]
  },
  {
   "cell_type": "code",
   "execution_count": 7,
   "metadata": {},
   "outputs": [
    {
     "name": "stdout",
     "output_type": "stream",
     "text": [
      "10\n",
      "[0.9836381673812866, 0.9823898077011108, 0.9759968519210815, 0.9851373434066772, 0.9864538311958313, 0.986423909664154, 0.9833903312683105, 0.9856266975402832, 0.9808560609817505, 0.9734964966773987]\n"
     ]
    }
   ],
   "source": [
    "print(len(dice_3d_list))\n",
    "print(dice_3d_list)"
   ]
  },
  {
   "cell_type": "code",
   "execution_count": 30,
   "metadata": {},
   "outputs": [
    {
     "name": "stdout",
     "output_type": "stream",
     "text": [
      "2d dice: 0.9391\n",
      "3d dice: 0.9822\n"
     ]
    }
   ],
   "source": [
    "print(f\"2d dice: {np.mean(dice_2d_list):.4f}\")\n",
    "print(f\"3d dice: {np.mean(dice_3d_list):.4f}\")"
   ]
  },
  {
   "cell_type": "code",
   "execution_count": null,
   "metadata": {},
   "outputs": [],
   "source": []
  }
 ],
 "metadata": {
  "kernelspec": {
   "display_name": "Python [conda env:lungmask]",
   "language": "python",
   "name": "conda-env-lungmask-py"
  },
  "language_info": {
   "codemirror_mode": {
    "name": "ipython",
    "version": 3
   },
   "file_extension": ".py",
   "mimetype": "text/x-python",
   "name": "python",
   "nbconvert_exporter": "python",
   "pygments_lexer": "ipython3",
   "version": "3.8.5"
  }
 },
 "nbformat": 4,
 "nbformat_minor": 4
}
