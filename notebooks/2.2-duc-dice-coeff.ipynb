{
 "cells": [
  {
   "cell_type": "code",
   "execution_count": 3,
   "metadata": {},
   "outputs": [
    {
     "name": "stdout",
     "output_type": "stream",
     "text": [
      "/workspace/lung-segmentation\n"
     ]
    }
   ],
   "source": [
    "%load_ext autoreload\n",
    "%autoreload 2\n",
    "%cd .."
   ]
  },
  {
   "cell_type": "code",
   "execution_count": 6,
   "metadata": {},
   "outputs": [],
   "source": [
    "import glob\n",
    "\n",
    "import torch\n",
    "import torch.nn as nn\n",
    "\n",
    "import numpy as np\n",
    "import matplotlib.pyplot as plt\n",
    "\n",
    "from src.data.utils import *\n",
    "from src.models.eval import *"
   ]
  },
  {
   "cell_type": "code",
   "execution_count": 5,
   "metadata": {},
   "outputs": [],
   "source": [
    "def dice_coeff(input, target):\n",
    "    if input.is_cuda:\n",
    "        s = torch.FloatTensor(1).cuda().zero_()\n",
    "    else:\n",
    "        s = torch.FloatTensor(1).zero_()\n",
    "    batch_size = input.shape[0]\n",
    "    for i in range(batch_size):\n",
    "        eps = 0.0001  # for numerical stability\n",
    "        inter = torch.dot(input[i].reshape(-1), target[i].reshape(-1))\n",
    "        union = torch.sum(input[i]) + torch.sum(target[i])  # not actually union\n",
    "        s += (2 * inter.float() + eps) / (union + eps)\n",
    "    return s / batch_size"
   ]
  },
  {
   "cell_type": "code",
   "execution_count": 36,
   "metadata": {},
   "outputs": [
    {
     "name": "stdout",
     "output_type": "stream",
     "text": [
      "tensor([0.9766])\n"
     ]
    },
    {
     "data": {
      "text/plain": [
       "<matplotlib.image.AxesImage at 0x7f6d369bdd60>"
      ]
     },
     "execution_count": 36,
     "metadata": {},
     "output_type": "execute_result"
    },
    {
     "data": {
      "image/png": "[encoded data removed]",
      "text/plain": [
       "<Figure size 432x288 with 2 Axes>"
      ]
     },
     "metadata": {
      "needs_background": "light"
     },
     "output_type": "display_data"
    }
   ],
   "source": [
    "# test on individual masks\n",
    "mask_path = glob.glob(\"data/raw/Thoracic_Cavities/LUNG1-001/*.nii.gz\")[0]\n",
    "\n",
    "mask1 = torch.from_numpy(read_seg_mask(mask_path, 60))\n",
    "mask2 = torch.from_numpy(read_seg_mask(mask_path, 61))\n",
    "\n",
    "print(dice_coeff(mask1.unsqueeze(0), mask2.unsqueeze(0)))\n",
    "fig, axes = plt.subplots(nrows=1, ncols=2)\n",
    "axes[0].imshow(mask1, cmap=\"gray\")\n",
    "axes[1].imshow(mask2, cmap=\"gray\")"
   ]
  },
  {
   "cell_type": "code",
   "execution_count": 16,
   "metadata": {},
   "outputs": [],
   "source": [
    "# test on batch\n",
    "mask_path = glob.glob(\"data/raw/Thoracic_Cavities/LUNG1-001/*.nii.gz\")[0]\n",
    "\n",
    "mask1 = torch.from_numpy(read_seg_masks(mask_path))\n",
    "mask2 = torch.from_numpy(read_seg_masks(mask_path))\n",
    "# randomly shuffle slices\n",
    "mask2 = mask2[torch.randperm(mask2.shape[0])]"
   ]
  },
  {
   "cell_type": "code",
   "execution_count": 17,
   "metadata": {},
   "outputs": [
    {
     "name": "stdout",
     "output_type": "stream",
     "text": [
      "tensor([0.2870])\n",
      "tensor(0.2870)\n"
     ]
    }
   ],
   "source": [
    "print(dice_coeff(mask1, mask2))\n",
    "print(dice_coeff_vectorized(mask1, mask2))"
   ]
  },
  {
   "cell_type": "code",
   "execution_count": 15,
   "metadata": {},
   "outputs": [
    {
     "name": "stdout",
     "output_type": "stream",
     "text": [
      "96.3 ms ± 1.36 ms per loop (mean ± std. dev. of 7 runs, 10 loops each)\n"
     ]
    }
   ],
   "source": [
    "%timeit dice_coeff(mask1, mask2)"
   ]
  },
  {
   "cell_type": "code",
   "execution_count": 14,
   "metadata": {},
   "outputs": [
    {
     "name": "stdout",
     "output_type": "stream",
     "text": [
      "33.2 ms ± 587 µs per loop (mean ± std. dev. of 7 runs, 10 loops each)\n"
     ]
    }
   ],
   "source": [
    "%timeit dice_coeff_vectorized(mask1, mask2)"
   ]
  },
  {
   "cell_type": "code",
   "execution_count": null,
   "metadata": {},
   "outputs": [],
   "source": []
  }
 ],
 "metadata": {
  "kernelspec": {
   "display_name": "Python [conda env:root] *",
   "language": "python",
   "name": "conda-root-py"
  },
  "language_info": {
   "codemirror_mode": {
    "name": "ipython",
    "version": 3
   },
   "file_extension": ".py",
   "mimetype": "text/x-python",
   "name": "python",
   "nbconvert_exporter": "python",
   "pygments_lexer": "ipython3",
   "version": "3.8.3"
  }
 },
 "nbformat": 4,
 "nbformat_minor": 4
}
