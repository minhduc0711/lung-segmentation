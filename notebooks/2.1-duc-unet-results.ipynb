{
 "cells": [
  {
   "cell_type": "code",
   "execution_count": null,
   "metadata": {},
   "outputs": [],
   "source": [
    "%load_ext tensorboard\n",
    "%load_ext autoreload\n",
    "%autoreload 2\n",
    "%cd .."
   ]
  },
  {
   "cell_type": "code",
   "execution_count": null,
   "metadata": {},
   "outputs": [],
   "source": [
    "import time\n",
    "\n",
    "import torch\n",
    "import torch.nn as nn\n",
    "import torch.nn.functional as F\n",
    "import torch.optim as optim\n",
    "from torch.utils.data import DataLoader, Subset, random_split\n",
    "import pytorch_lightning as pl\n",
    "from torchsummary import summary\n",
    "from tqdm import tqdm\n",
    "import matplotlib.pyplot as plt\n",
    "\n",
    "from torchvision import transforms\n",
    "\n",
    "from src.data.utils import simple_collate_fn\n",
    "from src.data import NSCLCDataset\n",
    "from src.models.unet import UNet\n",
    "from src.visualization import plot_batch, plot_true_vs_pred\n",
    "from src.preprocess import DEFAULT_TRANSFORM"
   ]
  },
  {
   "cell_type": "code",
   "execution_count": null,
   "metadata": {},
   "outputs": [],
   "source": [
    "device = \"cuda:1\"\n",
    "from src.models.unet import UNet\n",
    "net = UNet.load_from_checkpoint(\"models\")\n",
    "net.to(device).eval();"
   ]
  },
  {
   "cell_type": "code",
   "execution_count": null,
   "metadata": {},
   "outputs": [],
   "source": [
    "# evaluate on test set\n",
    "ct_ids = get_common_ids(\"data/raw/NSCLC-Radiomics/\",\n",
    "                        \"data/processed/NSCLC_ground_truths/\")\n",
    "train_ratio = 0.7\n",
    "val_ratio = 0.2\n",
    "num_train_scans = int(len(ct_ids) * train_ratio)\n",
    "num_val_scans = int(len(ct_ids) * val_ratio)\n",
    "test_scans = ct_ids[num_train_scans+num_val_scans:]\n",
    "test_ds = NSCLCDataset(metadata_path=\"data/processed/NSCLC-Radiomics_metadata_v2.csv\",\n",
    "                       ct_ids=test_scans)\n",
    "test_loader = DataLoader(test_ds, batch_size=8, collate_fn=simple_collate_fn, num_workers=4, shuffle=False,                                      pin_memory=True)\n",
    "    \n",
    "trainer = pl.Trainer()\n",
    "trainer.test(net, test_dataloaders=test_loader)"
   ]
  },
  {
   "cell_type": "code",
   "execution_count": null,
   "metadata": {},
   "outputs": [],
   "source": [
    "X_test, y_test = next(iter(test_loader))\n",
    "with torch.no_grad():\n",
    "    preds = net(X_test.to(device))\n",
    "    pred_masks = torch.argmax(preds, dim=1)\n",
    "    pred_masks = pred_masks.cpu()\n",
    "plot_true_vs_pred(X_test, y_test, pred_masks,\n",
    "                  mask_alpha=0.2)"
   ]
  },
  {
   "cell_type": "code",
   "execution_count": null,
   "metadata": {},
   "outputs": [],
   "source": []
  }
 ],
 "metadata": {
  "kernelspec": {
   "display_name": "Python [conda env:root] *",
   "language": "python",
   "name": "conda-root-py"
  },
  "language_info": {
   "codemirror_mode": {
    "name": "ipython",
    "version": 3
   },
   "file_extension": ".py",
   "mimetype": "text/x-python",
   "name": "python",
   "nbconvert_exporter": "python",
   "pygments_lexer": "ipython3",
   "version": "3.8.3"
  }
 },
 "nbformat": 4,
 "nbformat_minor": 4
}
