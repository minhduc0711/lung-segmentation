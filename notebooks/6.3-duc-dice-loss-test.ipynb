{
 "cells": [
  {
   "cell_type": "code",
   "execution_count": null,
   "metadata": {},
   "outputs": [],
   "source": [
    "%load_ext autoreload\n",
    "%autoreload 2\n",
    "%cd .."
   ]
  },
  {
   "cell_type": "code",
   "execution_count": 2,
   "metadata": {},
   "outputs": [],
   "source": [
    "import torch\n",
    "import torch.nn.functional as F\n",
    "import matplotlib.pyplot as plt\n",
    "from src.losses import SoftDiceLoss\n",
    "from src.models import UNet\n",
    "from src.data import PlethoraDataModule"
   ]
  },
  {
   "cell_type": "code",
   "execution_count": 17,
   "metadata": {},
   "outputs": [],
   "source": [
    "input = torch.rand(16, 2, 4, 4)\n",
    "\n",
    "target = torch.randn(16, 2, 4, 4)\n",
    "target = torch.argmax(target, dim=1)"
   ]
  },
  {
   "cell_type": "code",
   "execution_count": 18,
   "metadata": {},
   "outputs": [
    {
     "name": "stdout",
     "output_type": "stream",
     "text": [
      "torch.Size([16, 2, 4, 4]) torch.Size([16, 4, 4])\n"
     ]
    },
    {
     "data": {
      "text/plain": [
       "tensor(0.5187)"
      ]
     },
     "execution_count": 18,
     "metadata": {},
     "output_type": "execute_result"
    }
   ],
   "source": [
    "SoftDiceLoss(2)(input, target)"
   ]
  },
  {
   "cell_type": "code",
   "execution_count": 25,
   "metadata": {},
   "outputs": [],
   "source": [
    "data_module_args = { \n",
    "   \"batch_size\": 8,\n",
    "   \"img_size\": 512,\n",
    "   \"clip_low\": -1000,\n",
    "   \"clip_high\": 1000,\n",
    "   \"pin_memory\": True,\n",
    "   \"num_workers\": 2\n",
    "}                                                              \n",
    "dm = PlethoraDataModule(**data_module_args)\n",
    "dm.setup()"
   ]
  },
  {
   "cell_type": "code",
   "execution_count": 26,
   "metadata": {},
   "outputs": [],
   "source": [
    "sample = dm.train_ds[60]\n",
    "img, mask = sample['img'], sample['mask']"
   ]
  },
  {
   "cell_type": "code",
   "execution_count": 3,
   "metadata": {},
   "outputs": [],
   "source": [
    "device = \"cuda:7\"\n",
    "from src.models.unet import UNet\n",
    "net = UNet.load_from_checkpoint(\"logs/unet-plethora-512/version_2/ckpts/last.ckpt\")\n",
    "net.to(device).eval();\n",
    "net.loss_fn"
   ]
  },
  {
   "cell_type": "code",
   "execution_count": 37,
   "metadata": {},
   "outputs": [],
   "source": [
    "with torch.no_grad():\n",
    "    logits = net(img.unsqueeze(0).to(device))"
   ]
  },
  {
   "cell_type": "code",
   "execution_count": 50,
   "metadata": {},
   "outputs": [
    {
     "name": "stdout",
     "output_type": "stream",
     "text": [
      "torch.Size([1, 2, 512, 512]) torch.Size([1, 512, 512])\n"
     ]
    },
    {
     "data": {
      "text/plain": [
       "tensor(0.0080, device='cuda:0')"
      ]
     },
     "execution_count": 50,
     "metadata": {},
     "output_type": "execute_result"
    }
   ],
   "source": [
    "SoftDiceLoss(2)(logits, mask.unsqueeze(0).to(device))"
   ]
  },
  {
   "cell_type": "code",
   "execution_count": 9,
   "metadata": {},
   "outputs": [
    {
     "name": "stderr",
     "output_type": "stream",
     "text": [
      "Caching CT scans metadata: 100%|██████████| 399/399 [04:11<00:00,  1.59it/s]\n"
     ]
    }
   ],
   "source": [
    "from src.data import PlethoraDataset\n",
    "ds = PlethoraDataset(ct_dir=\"data/raw/NSCLC-Radiomics/\",\n",
    "                     mask_dir=\"data/processed/plethora_masks/\")\n",
    "                     "
   ]
  },
  {
   "cell_type": "code",
   "execution_count": null,
   "metadata": {},
   "outputs": [],
   "source": []
  }
 ],
 "metadata": {
  "kernelspec": {
   "display_name": "Python [conda env:lung-segmentation]",
   "language": "python",
   "name": "conda-env-lung-segmentation-py"
  },
  "language_info": {
   "codemirror_mode": {
    "name": "ipython",
    "version": 3
   },
   "file_extension": ".py",
   "mimetype": "text/x-python",
   "name": "python",
   "nbconvert_exporter": "python",
   "pygments_lexer": "ipython3",
   "version": "3.8.5"
  }
 },
 "nbformat": 4,
 "nbformat_minor": 4
}
