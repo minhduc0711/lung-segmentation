{
 "cells": [
  {
   "cell_type": "code",
   "execution_count": 1,
   "metadata": {},
   "outputs": [],
   "source": [
    "%load_ext autoreload\n",
    "%autoreload 2\n",
    "import time\n",
    "\n",
    "import torch\n",
    "import torch.nn as nn\n",
    "import torch.nn.functional as F\n",
    "import torch.optim as optim\n",
    "from torch.utils.data import DataLoader\n",
    "\n",
    "import matplotlib.pyplot as plt\n",
    "\n",
    "from src.data import NSCLCDataset\n",
    "from src.models.unet import *"
   ]
  },
  {
   "cell_type": "code",
   "execution_count": 2,
   "metadata": {},
   "outputs": [
    {
     "name": "stdout",
     "output_type": "stream",
     "text": [
      "torch.Size([2, 128, 280, 280])\n"
     ]
    }
   ],
   "source": [
    "# TESTING BUILDING BLOCKS\n",
    "# Downsample\n",
    "x = torch.randn(2, 1, 572, 572)\n",
    "\n",
    "down = DoubleConv(1, 64)\n",
    "x = down(x)\n",
    "x = PoolDoubleConv(64, 128)(x)\n",
    "print(x.shape)"
   ]
  },
  {
   "cell_type": "code",
   "execution_count": 3,
   "metadata": {},
   "outputs": [
    {
     "name": "stdout",
     "output_type": "stream",
     "text": [
      "torch.Size([2, 512, 64, 64]) torch.Size([2, 512, 56, 56])\n",
      "torch.Size([2, 512, 64, 64]) torch.Size([2, 512, 64, 64])\n"
     ]
    },
    {
     "data": {
      "text/plain": [
       "torch.Size([2, 512, 60, 60])"
      ]
     },
     "execution_count": 3,
     "metadata": {},
     "output_type": "execute_result"
    }
   ],
   "source": [
    "from src.models.unet import *\n",
    "# Upsample\n",
    "skip_x = torch.randn(2, 512, 64, 64)\n",
    "x = torch.randn(2, 1024, 28, 28)\n",
    "\n",
    "up = UpsampleDoubleConv(1024, 512)\n",
    "up(x, skip_x).shape"
   ]
  },
  {
   "cell_type": "code",
   "execution_count": 3,
   "metadata": {},
   "outputs": [
    {
     "name": "stdout",
     "output_type": "stream",
     "text": [
      "torch.Size([1, 64, 512, 512])\n",
      "torch.Size([1, 128, 256, 256])\n",
      "torch.Size([1, 256, 128, 128])\n",
      "torch.Size([1, 512, 64, 64])\n",
      "torch.Size([1, 1024, 32, 32])\n",
      "torch.Size([1, 512, 64, 64])\n",
      "torch.Size([1, 256, 128, 128])\n",
      "torch.Size([1, 128, 256, 256])\n",
      "torch.Size([1, 64, 512, 512])\n",
      "0.031812191009521484\n"
     ]
    }
   ],
   "source": [
    "import time, torch\n",
    "from src.models import UNet\n",
    "# full network\n",
    "x = torch.randn(1, 1, 512, 512).to(\"cuda\")\n",
    "net = UNet(in_c=1, num_classes=2).to(\"cuda\")\n",
    "t0 = time.time()\n",
    "out = net(x)\n",
    "t1 = time.time()\n",
    "\n",
    "print(t1 -t0)"
   ]
  },
  {
   "cell_type": "code",
   "execution_count": 4,
   "metadata": {},
   "outputs": [],
   "source": [
    "class DummyModel(nn.Module):\n",
    "    def __init__(self):\n",
    "        super(DummyModel, self).__init__()\n",
    "        self.conv = nn.Conv2d(1, 2, kernel_size=1)\n",
    "        \n",
    "    def forward(self, x):\n",
    "        return self.conv(x)"
   ]
  }
 ],
 "metadata": {
  "kernelspec": {
   "display_name": "Python [conda env:root] *",
   "language": "python",
   "name": "conda-root-py"
  },
  "language_info": {
   "codemirror_mode": {
    "name": "ipython",
    "version": 3
   },
   "file_extension": ".py",
   "mimetype": "text/x-python",
   "name": "python",
   "nbconvert_exporter": "python",
   "pygments_lexer": "ipython3",
   "version": "3.8.3"
  }
 },
 "nbformat": 4,
 "nbformat_minor": 4
}
