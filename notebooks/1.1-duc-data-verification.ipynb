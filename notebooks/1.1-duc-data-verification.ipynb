{
 "cells": [
  {
   "cell_type": "code",
   "execution_count": 2,
   "metadata": {},
   "outputs": [
    {
     "name": "stdout",
     "output_type": "stream",
     "text": [
      "/workspace/lung-segmentation\n"
     ]
    }
   ],
   "source": [
    "%load_ext autoreload\n",
    "%autoreload 2\n",
    "%cd .."
   ]
  },
  {
   "cell_type": "code",
   "execution_count": 12,
   "metadata": {},
   "outputs": [],
   "source": [
    "import os\n",
    "import pickle\n",
    "from src.data import NSCLCDataset"
   ]
  },
  {
   "cell_type": "code",
   "execution_count": 4,
   "metadata": {},
   "outputs": [],
   "source": [
    "ct_ids = os.listdir(\"data/raw/NSCLC-Radiomics/\")\n",
    "seg_ids = os.listdir(\"data/raw/Thoracic_Cavities/\")\n",
    "ct_ids= set(ct_ids); seg_ids = set(seg_ids)"
   ]
  },
  {
   "cell_type": "code",
   "execution_count": 6,
   "metadata": {},
   "outputs": [
    {
     "data": {
      "text/plain": [
       "{'LUNG1-083', 'LUNG1-095', 'LUNG1-246'}"
      ]
     },
     "execution_count": 6,
     "metadata": {},
     "output_type": "execute_result"
    }
   ],
   "source": [
    "# WTF: different scans in raw CT and ground truth segmentation\n",
    "seg_ids - ct_ids"
   ]
  },
  {
   "cell_type": "code",
   "execution_count": 7,
   "metadata": {},
   "outputs": [
    {
     "data": {
      "text/plain": [
       "{'LUNG1-198', 'LUNG1-203', 'LUNG1-204'}"
      ]
     },
     "execution_count": 7,
     "metadata": {},
     "output_type": "execute_result"
    }
   ],
   "source": [
    "ct_ids - seg_ids"
   ]
  },
  {
   "cell_type": "code",
   "execution_count": 9,
   "metadata": {},
   "outputs": [],
   "source": [
    "# Temporarily fix: clean the existing metadata file\n",
    "train_ds = NSCLCDataset(metadata_path=\"data/processed/train_metadata.pkl\")"
   ]
  },
  {
   "cell_type": "code",
   "execution_count": 19,
   "metadata": {},
   "outputs": [
    {
     "data": {
      "text/plain": [
       "335"
      ]
     },
     "execution_count": 19,
     "metadata": {},
     "output_type": "execute_result"
    }
   ],
   "source": [
    "idx_2_ct = train_ds.idx_2_ct\n",
    "rm_ct_ids = list(ct_ids - seg_ids)\n",
    "rm_keys = []\n",
    "for k, (_, _, seg_path) in idx_2_ct.items():\n",
    "    for ct_id in rm_ct_ids:\n",
    "        if ct_id in seg_path:\n",
    "            rm_keys.append(k)\n",
    "for k in rm_keys:\n",
    "    del idx_2_ct[k]\n",
    "len(idx_2_ct)"
   ]
  },
  {
   "cell_type": "code",
   "execution_count": 27,
   "metadata": {},
   "outputs": [],
   "source": [
    "with open(\"data/processed/train_metadata.pkl\", \"wb\") as f:\n",
    "    pickle.dump(idx_2_ct, f, pickle.HIGHEST_PROTOCOL)"
   ]
  },
  {
   "cell_type": "code",
   "execution_count": null,
   "metadata": {},
   "outputs": [],
   "source": []
  }
 ],
 "metadata": {
  "kernelspec": {
   "display_name": "Python [conda env:root] *",
   "language": "python",
   "name": "conda-root-py"
  },
  "language_info": {
   "codemirror_mode": {
    "name": "ipython",
    "version": 3
   },
   "file_extension": ".py",
   "mimetype": "text/x-python",
   "name": "python",
   "nbconvert_exporter": "python",
   "pygments_lexer": "ipython3",
   "version": "3.8.3"
  }
 },
 "nbformat": 4,
 "nbformat_minor": 4
}
